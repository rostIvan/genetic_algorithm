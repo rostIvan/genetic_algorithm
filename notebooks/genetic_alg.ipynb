{
 "cells": [
  {
   "cell_type": "code",
   "execution_count": 21,
   "metadata": {
    "pycharm": {
     "is_executing": false,
     "name": "#%%\n"
    }
   },
   "outputs": [],
   "source": [
    "import copy\n",
    "import random\n",
    "import itertools\n",
    "\n",
    "import pandas as pd\n",
    "  "
   ]
  },
  {
   "cell_type": "markdown",
   "metadata": {},
   "source": [
    "### Find extrema(min, max) of a function:\n",
    "\\begin{equation*}\n",
    "\\frac{x - 3}{(x + 5)} - (x + 3)(x - 5), x  \\in [15, 45], x\\not=5\n",
    "\\end{equation*}"
   ]
  },
  {
   "cell_type": "code",
   "execution_count": 22,
   "metadata": {
    "pycharm": {
     "is_executing": false,
     "name": "#%%\n"
    }
   },
   "outputs": [
    {
     "name": "stdout",
     "output_type": "stream",
     "text": [
      "actual max = (-179.4, 15)\n",
      "actual min = (-1919.16, 45)\n"
     ]
    }
   ],
   "source": [
    "def fun(x):\n",
    "    assert x != 5\n",
    "    return ((x - 3) / (x + 5)) - ((x + 3) * (x - 5))\n",
    "\n",
    "values = sorted([(fun(i), i) for i in range(15, 46)], \n",
    "                    key=lambda x: x[0], \n",
    "                    reverse=True)\n",
    "print(f'actual max = {values[0]}')\n",
    "print(f'actual min = {values[-1]}')"
   ]
  },
  {
   "cell_type": "markdown",
   "metadata": {},
   "source": [
    "### Util operations"
   ]
  },
  {
   "cell_type": "code",
   "execution_count": 23,
   "metadata": {
    "pycharm": {
     "is_executing": false,
     "name": "#%%\n"
    }
   },
   "outputs": [],
   "source": [
    "def invert_bit(bits, i):\n",
    "    x = list(bits)\n",
    "    x[i] = int(not int(x[i]))\n",
    "    return ''.join(map(str, x))\n",
    "\n",
    "def fill_zeros(bits, length):\n",
    "    b = list(bits)\n",
    "    while len(b) != length:\n",
    "        b.insert(0, 0)\n",
    "    return ''.join(map(str, b))\n",
    "\n",
    "def pairwise(iterable):\n",
    "    for i in range(0, len(iterable), 2):\n",
    "        try:\n",
    "            yield iterable[i], iterable[i + 1]\n",
    "        except IndexError:\n",
    "            yield iterable[i], iterable[0]\n",
    "\n",
    "def population_df(chromosomes):\n",
    "        df = pd.DataFrame(data=[ch_i for ch_i in chromosomes], columns=['chromosome'])\n",
    "        df['phenotype'] = df.apply(lambda x: phenotype(x['chromosome']), axis=1) \n",
    "        df['fun_value'] = df.apply(lambda x: fun(x['phenotype']), axis=1)\n",
    "        df['sel_probability'] = df['fun_value'] / df['fun_value'].sum()\n",
    "        assert round(df['sel_probability'].sum(), 5) == 1\n",
    "        return df\n",
    "\n",
    "\n",
    "def get_best_chromosome(c1, c2):\n",
    "    return c1 if fun(phenotype(c1)) < fun(phenotype(c2)) else c2"
   ]
  },
  {
   "cell_type": "markdown",
   "metadata": {},
   "source": [
    "### Chromosome representation"
   ]
  },
  {
   "cell_type": "code",
   "execution_count": 24,
   "metadata": {
    "pycharm": {
     "is_executing": false,
     "name": "#%%\n"
    }
   },
   "outputs": [],
   "source": [
    "def chromosome_bits(n, bits_len=None):\n",
    "    if bits_len:\n",
    "        return fill_zeros(bin(n)[2:], bits_len)\n",
    "    return bin(n)[2:]\n",
    "    \n",
    "def phenotype(n):\n",
    "    return int(n, base=2)\n",
    "\n",
    "assert chromosome_bits(10) == '1010'\n",
    "assert chromosome_bits(10, bits_len=5) == '01010'\n",
    "assert phenotype('1010') == 10\n",
    "assert phenotype(chromosome_bits(1234)) == 1234\n",
    "assert chromosome_bits(45) == '101101'\n",
    "assert phenotype('101101') == 45\n",
    "assert phenotype(chromosome_bits(45)) == 45"
   ]
  },
  {
   "cell_type": "markdown",
   "metadata": {},
   "source": [
    "### Genetic operators"
   ]
  },
  {
   "cell_type": "markdown",
   "metadata": {},
   "source": [
    "* Mutation(bit_position=3)\n",
    "    - 000**0**00 >> 000**1**00"
   ]
  },
  {
   "cell_type": "code",
   "execution_count": 25,
   "metadata": {
    "pycharm": {
     "is_executing": false,
     "name": "#%%\n"
    }
   },
   "outputs": [],
   "source": [
    "def mutation(chromosome, \n",
    "             probability=0.2, \n",
    "             bit_position=None):\n",
    "    def mutate():\n",
    "        if bit_position is None:\n",
    "            pos = random.randint(0, len(chromosome) - 1)\n",
    "        else:\n",
    "            pos = bit_position\n",
    "        return invert_bit(chromosome, pos)\n",
    "\n",
    "    assert (0 <= probability <= 1)\n",
    "    \n",
    "    if random.random() < probability:\n",
    "        return mutate()\n",
    "    return chromosome\n",
    "\n",
    "assert mutation('1111', bit_position=1, probability=0) == '1111'\n",
    "assert mutation(chromosome_bits(15), bit_position=0, probability=1) == '0111'\n",
    "assert mutation(chromosome_bits(15), bit_position=1, probability=1) == '1011'\n",
    "assert mutation(chromosome_bits(15), bit_position=2, probability=1) == '1101'\n",
    "assert mutation(chromosome_bits(15), bit_position=3, probability=1) == '1110'\n",
    "\n",
    "def safe_mutation(chromosome, \n",
    "                  probability=0.2, \n",
    "                  bit_position=None,\n",
    "                  allow_range=range(15, 46)):\n",
    "    mutated = mutation(chromosome, probability, bit_position)\n",
    "    # print(f'Mutated:', phenotype(chromosome), '->', phenotype(mutated))\n",
    "    if phenotype(mutated) not in allow_range:\n",
    "        return chromosome       \n",
    "    return mutated\n",
    "\n",
    "def mutate_population(_population,\n",
    "                      probability=0.2, \n",
    "                      bit_position=None,\n",
    "                      allow_range=range(15, 46)):\n",
    "    return [safe_mutation(ch, probability, bit_position, allow_range) \n",
    "            for ch in _population]"
   ]
  },
  {
   "cell_type": "markdown",
   "metadata": {},
   "source": [
    "* Crossing\n",
    "    * rift = 3\n",
    "        - **000**000 >> 000 | 111 = 000111\n",
    "        - **111**111 >> 111 | 000 = 111000\n",
    "        \n",
    "    * rift = 1\n",
    "        - **1**111 >> 1 | 000 = 1000\n",
    "        - **0**000 >> 0 | 111 = 0111"
   ]
  },
  {
   "cell_type": "code",
   "execution_count": 26,
   "metadata": {
    "pycharm": {
     "is_executing": false,
     "name": "#%%\n"
    }
   },
   "outputs": [],
   "source": [
    "def crossing(chromosome1, chromosome2, rift=None, probability=0.8):\n",
    "    def cross():\n",
    "        assert len(chromosome1) == len(chromosome2)\n",
    "        if rift is None:\n",
    "            pos = random.randint(0, len(chromosome1))\n",
    "        else:\n",
    "            pos = rift\n",
    "        assert 0 <= pos <= len(chromosome1)\n",
    "        return (''.join([chromosome1[:pos], chromosome2[pos:]]),\n",
    "                ''.join([chromosome2[:pos], chromosome1[pos:]]))\n",
    "    \n",
    "    assert (0 <= probability <= 1)\n",
    "    \n",
    "    if random.random() < probability:\n",
    "        return cross()\n",
    "    return chromosome1, chromosome2\n",
    "\n",
    "\n",
    "assert crossing('000000', '111111', 3, 1) == ('000111', '111000')\n",
    "assert crossing('1111', '0000', 1, 1) == ('1000', '0111')\n",
    "\n",
    "def safe_crossing(chromosome1, \n",
    "                  chromosome2, \n",
    "                  rift=None, \n",
    "                  probability=0.8,\n",
    "                  allow_range=range(15, 46)):\n",
    "    c1, c2 = crossing(chromosome1, chromosome2, rift, probability)\n",
    "    # print(f'Crossing:', phenotype(chromosome1), phenotype(chromosome2), \n",
    "    #       '->', phenotype(c1), phenotype(c2))\n",
    "    if (phenotype(c1) not in allow_range or \n",
    "        phenotype(c2) not in allow_range):\n",
    "        return chromosome1, chromosome2\n",
    "    return c1, c2\n",
    "\n",
    "def make_crossing_pairs(_population):\n",
    "    indexes = list(pairwise(range(len(_population))))\n",
    "    random.shuffle(indexes)\n",
    "    return [(_population[i1], _population[i2]) for i1, i2 in indexes]\n",
    "\n",
    "def cross_population(_population,\n",
    "                     probability=0.8,\n",
    "                     rift=None,\n",
    "                     allow_range=range(15, 46)):\n",
    "    pairs = make_crossing_pairs(_population)\n",
    "    crossed_pairs = list(itertools.chain.from_iterable([safe_crossing(ch1, ch2, rift, probability, allow_range)\n",
    "                                                        for ch1, ch2 in pairs]))\n",
    "    if len(crossed_pairs) > len(_population):\n",
    "        c1 = crossed_pairs.pop()\n",
    "        c2 = crossed_pairs.pop()\n",
    "        crossed_pairs.append(get_best_chromosome(c1, c2))\n",
    "    return crossed_pairs"
   ]
  },
  {
   "cell_type": "markdown",
   "metadata": {},
   "source": [
    "### Genetic selection"
   ]
  },
  {
   "cell_type": "code",
   "execution_count": 27,
   "metadata": {
    "pycharm": {
     "is_executing": false,
     "name": "#%%\n"
    }
   },
   "outputs": [],
   "source": [
    "def roulette(chromosomes, survive_probabilities):\n",
    "    n = len(chromosomes)\n",
    "    assert n == len(chromosomes) == len(survive_probabilities)\n",
    "    survived = []\n",
    "    s = sorted([(ch, sp * n, round(sp * n)) \n",
    "                for ch, sp in zip(chromosomes, survive_probabilities)],\n",
    "               key=lambda x: x[1])\n",
    "    while sum(ch_amount for *_, ch_amount in s) > n:\n",
    "        s.pop(0)\n",
    "    \n",
    "    while len(survived) != n:\n",
    "        ch, f_ch_amount, ch_amount = s.pop()\n",
    "        survived.extend([ch] * ch_amount)\n",
    "        if len(s) == 0 and len(survived) < n:\n",
    "            survived.extend([ch] * (n - len(survived)))\n",
    "            assert len(survived) == n\n",
    "    return survived\n",
    "\n",
    "def select_next_population(df, inverse=False):\n",
    "    if inverse:\n",
    "        df['sel_probability'] = (1 - df['sel_probability']) / df['sel_probability'].sum()\n",
    "    return roulette(df['chromosome'], df['sel_probability'])"
   ]
  },
  {
   "cell_type": "markdown",
   "metadata": {},
   "source": [
    "### Initial values"
   ]
  },
  {
   "cell_type": "code",
   "execution_count": 28,
   "metadata": {
    "pycharm": {
     "is_executing": false,
     "name": "#%%\n"
    }
   },
   "outputs": [
    {
     "name": "stdout",
     "output_type": "stream",
     "text": [
      "Initial population:\n",
      "   chromosome  phenotype    fun_value  sel_probability\n",
      "0      100000         32  -944.216216         0.116844\n",
      "1      001111         15  -179.400000         0.022200\n",
      "2      010100         20  -344.320000         0.042609\n",
      "3      010011         19  -307.333333         0.038032\n",
      "4      011110         30  -824.228571         0.101996\n",
      "5      010110         22  -424.296296         0.052506\n",
      "6      010101         21  -383.307692         0.047433\n",
      "7      100101         37 -1279.190476         0.158297\n",
      "8      101000         40 -1504.177778         0.186138\n",
      "9      101001         41 -1583.173913         0.195914\n",
      "10     010011         19  -307.333333         0.038032\n"
     ]
    }
   ],
   "source": [
    "# population contains N chromosomes \n",
    "# each chromosome consist of L bits\n",
    "N = 11\n",
    "L = len(chromosome_bits(45))\n",
    "\n",
    "population = [\n",
    "    chromosome_bits(32, L),\n",
    "    chromosome_bits(15, L),\n",
    "    chromosome_bits(20, L),\n",
    "    chromosome_bits(19, L),\n",
    "    chromosome_bits(30, L),\n",
    "    chromosome_bits(22, L),\n",
    "    chromosome_bits(21, L),\n",
    "    chromosome_bits(37, L),\n",
    "    chromosome_bits(40, L),\n",
    "    chromosome_bits(41, L),\n",
    "    chromosome_bits(19, L),\n",
    "]\n",
    "population1 = copy.deepcopy(population)\n",
    "population2 = copy.deepcopy(population)\n",
    "\n",
    "print('Initial population:')\n",
    "print(population_df(population))\n",
    "assert N == len(population) == len(population1) == len(population2)\n",
    "assert L == 6"
   ]
  },
  {
   "cell_type": "markdown",
   "metadata": {},
   "source": [
    "### Genetic algorithm"
   ]
  },
  {
   "cell_type": "markdown",
   "metadata": {},
   "source": [
    "##### Find min"
   ]
  },
  {
   "cell_type": "code",
   "execution_count": 29,
   "metadata": {
    "pycharm": {
     "is_executing": false,
     "name": "#%%\n"
    }
   },
   "outputs": [
    {
     "name": "stdout",
     "output_type": "stream",
     "text": [
      "   chromosome  phenotype    fun_value  sel_probability\n",
      "0      101101         45 -1919.160000         0.105635\n",
      "1      101101         45 -1919.160000         0.105635\n",
      "2      101001         41 -1583.173913         0.087141\n",
      "3      101011         43 -1747.166667         0.096168\n",
      "4      100100         36 -1208.195122         0.066502\n",
      "5      100101         37 -1279.190476         0.070409\n",
      "6      101101         45 -1919.160000         0.105635\n",
      "7      101101         45 -1919.160000         0.105635\n",
      "8      101101         45 -1919.160000         0.105635\n",
      "9      100001         33 -1007.210526         0.055439\n",
      "10     101011         43 -1747.166667         0.096168\n",
      "  chromosome  phenotype  fun_value  sel_probability\n",
      "0     101101         45   -1919.16         0.105635\n"
     ]
    }
   ],
   "source": [
    "for i in range(100):\n",
    "    population1 = select_next_population(population_df(population1))\n",
    "    population1 = cross_population(population1, \n",
    "                                  probability=0.8, \n",
    "                                  allow_range=range(15, 46))\n",
    "    population1 = mutate_population(population1, \n",
    "                                   probability=0.2, \n",
    "                                   allow_range=range(15, 46))\n",
    "\n",
    "df1 = population_df(population1)\n",
    "print(df1)\n",
    "print(df1[df1['sel_probability'] == df1['sel_probability'].max()].head(1))"
   ]
  },
  {
   "cell_type": "markdown",
   "metadata": {},
   "source": [
    "##### Find max"
   ]
  },
  {
   "cell_type": "code",
   "execution_count": 30,
   "metadata": {
    "pycharm": {
     "is_executing": false,
     "name": "#%%\n"
    }
   },
   "outputs": [
    {
     "name": "stdout",
     "output_type": "stream",
     "text": [
      "   chromosome  phenotype  fun_value  sel_probability\n",
      "0      001111         15     -179.4         0.090909\n",
      "1      001111         15     -179.4         0.090909\n",
      "2      001111         15     -179.4         0.090909\n",
      "3      001111         15     -179.4         0.090909\n",
      "4      001111         15     -179.4         0.090909\n",
      "5      001111         15     -179.4         0.090909\n",
      "6      001111         15     -179.4         0.090909\n",
      "7      001111         15     -179.4         0.090909\n",
      "8      001111         15     -179.4         0.090909\n",
      "9      001111         15     -179.4         0.090909\n",
      "10     001111         15     -179.4         0.090909\n",
      "  chromosome  phenotype  fun_value  sel_probability\n",
      "0     001111         15     -179.4         0.090909\n"
     ]
    }
   ],
   "source": [
    "for i in range(100):\n",
    "    population2 = select_next_population(population_df(population2), \n",
    "                                         inverse=True)\n",
    "    population2 = cross_population(population2, \n",
    "                                  probability=0.8, \n",
    "                                  allow_range=range(15, 46))\n",
    "    population2 = mutate_population(population2, \n",
    "                                   probability=0.2, \n",
    "                                   allow_range=range(15, 46))\n",
    "\n",
    "df2 = population_df(population2)\n",
    "print(df2)\n",
    "print(df2[df2['sel_probability'] == df2['sel_probability'].min()].head(1))"
   ]
  },
  {
   "cell_type": "code",
   "execution_count": null,
   "metadata": {
    "pycharm": {
     "is_executing": false,
     "name": "#%%\n"
    }
   },
   "outputs": [],
   "source": []
  }
 ],
 "metadata": {
  "kernelspec": {
   "display_name": "Python 3",
   "language": "python",
   "name": "python3"
  },
  "language_info": {
   "codemirror_mode": {
    "name": "ipython",
    "version": 3
   },
   "file_extension": ".py",
   "mimetype": "text/x-python",
   "name": "python",
   "nbconvert_exporter": "python",
   "pygments_lexer": "ipython3",
   "version": "3.7.4"
  },
  "pycharm": {
   "stem_cell": {
    "cell_type": "raw",
    "metadata": {
     "collapsed": false
    },
    "source": []
   }
  }
 },
 "nbformat": 4,
 "nbformat_minor": 1
}
