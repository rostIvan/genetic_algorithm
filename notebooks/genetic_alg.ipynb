{
 "cells": [
  {
   "cell_type": "code",
   "execution_count": 78,
   "metadata": {
    "pycharm": {
     "is_executing": false,
     "name": "#%%\n"
    }
   },
   "outputs": [],
   "source": [
    "import random\n",
    "import pandas as pd"
   ]
  },
  {
   "cell_type": "markdown",
   "source": [
    "### Find find extrema(min, max) of a function:\n",
    "\\begin{equation*}\n",
    "\\frac{x - 3}{(x + 5)} - (x + 3)(x - 5), x  \\in [15, 45], x\\not=5\n",
    "\\end{equation*}"
   ],
   "metadata": {
    "collapsed": false
   }
  },
  {
   "cell_type": "code",
   "execution_count": 79,
   "outputs": [
    {
     "name": "stdout",
     "text": [
      "actual max = -179.4\nactual min = -1919.16\n"
     ],
     "output_type": "stream"
    }
   ],
   "source": [
    "def fun(x):\n",
    "    assert x != 5\n",
    "    return ((x - 3) / (x + 5)) - ((x + 3) * (x - 5))\n",
    "\n",
    "def negative_fun(y):\n",
    "    return -fun(y)\n",
    "\n",
    "values = sorted([(fun(i), i) for i in range(15, 46)], \n",
    "                    key=lambda x: x[0], \n",
    "                    reverse=True)\n",
    "actual_max, _ = values[0]\n",
    "actual_min, _ = values[-1]\n",
    "print(f'actual max = { actual_max }')\n",
    "print(f'actual min = { actual_min }')"
   ],
   "metadata": {
    "collapsed": false,
    "pycharm": {
     "name": "#%%\n",
     "is_executing": false
    }
   }
  },
  {
   "cell_type": "markdown",
   "source": [
    "### Converting to gray code "
   ],
   "metadata": {
    "collapsed": false,
    "pycharm": {
     "name": "#%% md\n"
    }
   }
  },
  {
   "cell_type": "code",
   "execution_count": 80,
   "outputs": [],
   "source": [
    "def binary_to_gray(n):\n",
    "    n = int(n, 2)\n",
    "    n ^= (n >> 1)\n",
    "    return bin(n)[2:]\n",
    "\n",
    "def gray_to_binary(n):\n",
    "    n = int(n, 2) \n",
    "    mask = n\n",
    "    while mask != 0:\n",
    "        mask >>= 1\n",
    "        n ^= mask\n",
    "    return bin(n)[2:]\n",
    "\n",
    "def int_to_gray(n):\n",
    "    return binary_to_gray(bin(n))\n",
    "\n",
    "\n",
    "def gray_to_int(n):\n",
    "    return int(gray_to_binary(n), base=2)"
   ],
   "metadata": {
    "collapsed": false,
    "pycharm": {
     "name": "#%%\n",
     "is_executing": false
    }
   }
  },
  {
   "cell_type": "markdown",
   "source": [
    "### Chromosome representation"
   ],
   "metadata": {
    "collapsed": false
   }
  },
  {
   "cell_type": "code",
   "execution_count": 81,
   "outputs": [],
   "source": [
    "def chromosome_bits(n, bits_len=None):\n",
    "    # return bin(n)\n",
    "    if bits_len:\n",
    "        return fill_zeros(int_to_gray(n), bits_len)\n",
    "    return int_to_gray(n)\n",
    "    \n",
    "def phenotype(n):\n",
    "    # return int(n, base=2)\n",
    "    return gray_to_int(n)\n",
    "\n",
    "assert chromosome_bits(10) == '1111'\n",
    "assert phenotype('1111') == 10\n",
    "assert phenotype(chromosome_bits(1234)) == 1234"
   ],
   "metadata": {
    "collapsed": false,
    "pycharm": {
     "name": "#%%\n",
     "is_executing": false
    }
   }
  },
  {
   "cell_type": "markdown",
   "source": [
    "### Util operations"
   ],
   "metadata": {
    "collapsed": false
   }
  },
  {
   "cell_type": "code",
   "execution_count": 82,
   "outputs": [],
   "source": [
    "def invert_bit(bits, i):\n",
    "    x = list(bits)\n",
    "    x[i] = int(not int(x[i]))\n",
    "    return ''.join(map(str, x))\n",
    "\n",
    "def fill_zeros(bits, length):\n",
    "    b = list(bits)\n",
    "    while len(b) != length:\n",
    "        b.insert(0, 0)\n",
    "    return ''.join(map(str, b))\n",
    "\n",
    "def make_pairs(_population):\n",
    "    l = list(range(0, len(_population)))\n",
    "    random.shuffle(l)\n",
    "    pairs = [(l[i], l[i + 1]) for i in range(0, len(l) - 1)]\n",
    "    pairs.append((l[0], l[-1]))\n",
    "    return pairs"
   ],
   "metadata": {
    "collapsed": false,
    "pycharm": {
     "name": "#%%\n",
     "is_executing": false
    }
   }
  },
  {
   "cell_type": "markdown",
   "source": [
    "### Genetic operators"
   ],
   "metadata": {
    "collapsed": false
   }
  },
  {
   "cell_type": "markdown",
   "source": [
    "* Crossing\n",
    "    * rift = 3\n",
    "        - **000**000 >> 000 | 111 = 000111\n",
    "        - **111**111 >> 111 | 000 = 111000\n",
    "        \n",
    "    * rift = 1\n",
    "        - **1**111 >> 1 | 000 = 1000\n",
    "        - **0**000 >> 0 | 111 = 0111"
   ],
   "metadata": {
    "collapsed": false,
    "pycharm": {
     "name": "#%% md\n"
    }
   }
  },
  {
   "cell_type": "code",
   "execution_count": 83,
   "outputs": [],
   "source": [
    "def crossing(chromosome1, chromosome2, rift=None, probability=0.8):\n",
    "    def cross():\n",
    "        assert len(chromosome1) == len(chromosome2)\n",
    "        if rift is None:\n",
    "            pos = random.randint(0, len(chromosome1))\n",
    "        else:\n",
    "            pos = rift\n",
    "        assert 0 <= pos <= len(chromosome1)\n",
    "        return (''.join([chromosome1[:pos], chromosome2[pos:]]),\n",
    "                ''.join([chromosome2[:pos], chromosome1[pos:]]))\n",
    "    \n",
    "    assert (0 <= probability <= 1)\n",
    "    \n",
    "    if random.random() < probability:\n",
    "        return cross()\n",
    "    return chromosome1, chromosome2\n",
    "\n",
    "\n",
    "assert crossing('000000', '111111', 3, 1) == ('000111', '111000')\n",
    "assert crossing('1111', '0000', 1, 1) == ('1000', '0111')\n",
    "\n",
    "def cross_population(_population, probability=0.8):\n",
    "    pairs = make_pairs(_population)\n",
    "    return [crossing(_population[i1], _population[i2], \n",
    "                     probability=probability)[0] \n",
    "            for i1, i2 in pairs]"
   ],
   "metadata": {
    "collapsed": false,
    "pycharm": {
     "name": "#%%\n",
     "is_executing": false
    }
   }
  },
  {
   "cell_type": "markdown",
   "source": [
    "* Mutation(bit_position=3)\n",
    "    - 000**0**00 >> 000**1**00"
   ],
   "metadata": {
    "collapsed": false
   }
  },
  {
   "cell_type": "code",
   "execution_count": 84,
   "outputs": [],
   "source": [
    "def mutation(chromosome, \n",
    "             probability=0.2, \n",
    "             bit_position=None, \n",
    "             allow_range=range(15, 46)):\n",
    "    def mutate():\n",
    "        if bit_position is None:\n",
    "            pos = random.randint(0, len(chromosome) - 1)\n",
    "        else:\n",
    "            pos = bit_position\n",
    "        return invert_bit(chromosome, pos)\n",
    "\n",
    "    assert (0 <= probability <= 1)\n",
    "    \n",
    "    if random.random() < probability:\n",
    "        result = mutate()\n",
    "        while phenotype(result) not in allow_range:\n",
    "            result = mutate()\n",
    "        return result\n",
    "    return chromosome\n",
    "\n",
    "assert mutation('1111', bit_position=1, probability=0) == '1111'\n",
    "assert mutation(chromosome_bits(10), bit_position=0, probability=1, allow_range=range(0, 20)) == '0111'\n",
    "assert mutation(chromosome_bits(10), bit_position=1, probability=1, allow_range=range(0, 20)) == '1011'\n",
    "assert mutation(chromosome_bits(10), bit_position=2, probability=1, allow_range=range(0, 20)) == '1101'\n",
    "assert mutation(chromosome_bits(10), bit_position=3, probability=1, allow_range=range(0, 20)) == '1110'\n",
    "\n",
    "def mutate_population(_population, probability=0.2):\n",
    "    return [mutation(ch, probability) for ch in population] "
   ],
   "metadata": {
    "collapsed": false,
    "pycharm": {
     "name": "#%%\n",
     "is_executing": false
    }
   }
  },
  {
   "cell_type": "markdown",
   "source": [
    "### Genetic selection"
   ],
   "metadata": {
    "collapsed": false
   }
  },
  {
   "cell_type": "code",
   "execution_count": 85,
   "outputs": [],
   "source": [
    "def population_data(_population):\n",
    "    df = pd.DataFrame(data=[ch_i for ch_i in _population], columns=['chromosome'])\n",
    "    df['phenotype'] = df.apply(lambda row: phenotype(row['chromosome']), axis=1) \n",
    "    df['fun_value'] = df.apply(lambda row: fun(row['phenotype']), axis=1)\n",
    "    df['sel_probability'] = df['fun_value'] / df['fun_value'].sum()\n",
    "    return df\n",
    "\n",
    "def roulette(chromosomes, survive_probabilities):\n",
    "    n = len(chromosomes)\n",
    "    assert n == len(chromosomes) == len(survive_probabilities)\n",
    "    l = [i for i, _ in sorted(zip(chromosomes, survive_probabilities), \n",
    "                              key=lambda x: x[1])]\n",
    "    return l[:n]\n",
    "\n",
    "def select_new_population(df):\n",
    "    return roulette(chromosomes=df['chromosome'].values,\n",
    "                    survive_probabilities=df['sel_probability'].values)"
   ],
   "metadata": {
    "collapsed": false,
    "pycharm": {
     "name": "#%%\n",
     "is_executing": false
    }
   }
  },
  {
   "cell_type": "markdown",
   "source": [
    "### Initial values"
   ],
   "metadata": {
    "collapsed": false
   }
  },
  {
   "cell_type": "code",
   "execution_count": 86,
   "metadata": {
    "pycharm": {
     "is_executing": false,
     "name": "#%%\n"
    }
   },
   "outputs": [
    {
     "name": "stdout",
     "text": [
      "Initial population:\n  chromosome  phenotype   fun_value  sel_probability\n0     001000         15 -179.400000         0.091425\n1     110000         32 -944.216216         0.481187\n2     010110         27 -659.250000         0.335964\n3     001000         15 -179.400000         0.091425\n"
     ],
     "output_type": "stream"
    }
   ],
   "source": [
    "# population contains N chromosomes \n",
    "# each chromosome consist of L bits\n",
    "N = 4\n",
    "L = len(chromosome_bits(45))\n",
    "\n",
    "population = [\n",
    "    chromosome_bits(15, L),\n",
    "    chromosome_bits(32, L),\n",
    "    chromosome_bits(27, L),\n",
    "    chromosome_bits(15, L),\n",
    "]\n",
    "\n",
    "print('Initial population:')\n",
    "print(population_data(population))\n",
    "assert len(population) == N\n",
    "assert L == 6"
   ]
  },
  {
   "cell_type": "markdown",
   "source": [
    "### Genetic algorithm"
   ],
   "metadata": {
    "collapsed": false
   }
  },
  {
   "cell_type": "code",
   "execution_count": 87,
   "outputs": [
    {
     "name": "stdout",
     "text": [
      "  chromosome  phenotype   fun_value  sel_probability\n0     001000         15 -179.400000         0.091425\n1     001000         15 -179.400000         0.091425\n2     010110         27 -659.250000         0.335964\n3     110000         32 -944.216216         0.481187\n\n  chromosome  phenotype   fun_value  sel_probability\n0     000000          0   14.400000        -0.017019\n1     000110          4    7.111111        -0.008404\n2     011000         16 -208.380952         0.246278\n3     010110         27 -659.250000         0.779145\n\n",
      "  chromosome  phenotype  fun_value  sel_probability\n0     000110          4   7.111111         0.165289\n1     000110          4   7.111111         0.165289\n2     000000          0  14.400000         0.334711\n3     000000          0  14.400000         0.334711\n\n  chromosome  phenotype  fun_value  sel_probability\n0     000110          4   7.111111         0.148423\n1     000010          3  12.000000         0.250464\n2     000000          0  14.400000         0.300557\n3     000000          0  14.400000         0.300557\n\n  chromosome  phenotype  fun_value  sel_probability\n0     000110          4   7.111111         0.148423\n1     000010          3  12.000000         0.250464\n2     000000          0  14.400000         0.300557\n3     000000          0  14.400000         0.300557\n\n  chromosome  phenotype  fun_value  sel_probability\n0     000010          3       12.0         0.227273\n1     000010          3       12.0         0.227273\n2     000000          0       14.4         0.272727\n3     000000          0       14.4         0.272727\n\n  chromosome  phenotype   fun_value  sel_probability\n0     000000          0   14.400000        -0.010318\n1     000000          0   14.400000        -0.010318\n2     010010         28 -712.242424         0.510318\n3     010010         28 -712.242424         0.510318\n\n  chromosome  phenotype   fun_value  sel_probability\n0     000000          0   14.400000        -0.010725\n1     000000          0   14.400000        -0.010725\n2     010110         27 -659.250000         0.490991\n3     010010         28 -712.242424         0.530458\n\n  chromosome  phenotype  fun_value  sel_probability\n0     000000          0      14.40        -0.047071\n1     000010          3      12.00        -0.039226\n2     000010          3      12.00        -0.039226\n3     011110         20    -344.32         1.125523\n",
      "\n  chromosome  phenotype   fun_value  sel_probability\n0     000010          3   12.000000        -0.017745\n1     000010          3   12.000000        -0.017745\n2     000010          3   12.000000        -0.017745\n3     010010         28 -712.242424         1.053235\n\n  chromosome  phenotype  fun_value  sel_probability\n0     000010          3      12.00        -0.019254\n1     000010          3      12.00        -0.019254\n2     000010          3      12.00        -0.019254\n3     010110         27    -659.25         1.057762\n\n  chromosome  phenotype   fun_value  sel_probability\n0     000010          3   12.000000        -0.017745\n1     000010          3   12.000000        -0.017745\n2     000010          3   12.000000        -0.017745\n3     010010         28 -712.242424         1.053235\n\n  chromosome  phenotype   fun_value  sel_probability\n0     000010          3   12.000000        -0.008568\n1     000010          3   12.000000        -0.008568\n2     010010         28 -712.242424         0.508568\n3     010010         28 -712.242424         0.508568\n\n  chromosome  phenotype    fun_value  sel_probability\n0     000010          3    12.000000        -0.004604\n1     010010         28  -712.242424         0.273238\n2     010011         29  -767.235294         0.294335\n3     110010         35 -1139.200000         0.437031\n\n  chromosome  phenotype    fun_value  sel_probability\n0     000010          3    12.000000        -0.004703\n1     010010         28  -712.242424         0.279126\n2     010010         28  -712.242424         0.279126\n3     110010         35 -1139.200000         0.446450\n\n",
      "  chromosome  phenotype    fun_value  sel_probability\n0     000010          3    12.000000        -0.004703\n1     010010         28  -712.242424         0.279126\n2     010010         28  -712.242424         0.279126\n3     110010         35 -1139.200000         0.446450\n\n  chromosome  phenotype    fun_value  sel_probability\n0     000010          3    12.000000        -0.004703\n1     010010         28  -712.242424         0.279126\n2     010010         28  -712.242424         0.279126\n3     110010         35 -1139.200000         0.446450\n\n  chromosome  phenotype    fun_value  sel_probability\n0     000010          3    12.000000        -0.003698\n1     010010         28  -712.242424         0.219513\n2     010010         28  -712.242424         0.219513\n3     111010         44 -1832.163265         0.564672\n\n  chromosome  phenotype   fun_value  sel_probability\n0     000010          3   12.000000        -0.005505\n1     010010         28 -712.242424         0.326759\n2     010010         28 -712.242424         0.326759\n3     010011         29 -767.235294         0.351988\n\n  chromosome  phenotype   fun_value  sel_probability\n0     000010          3   12.000000        -0.008568\n1     000010          3   12.000000        -0.008568\n2     010010         28 -712.242424         0.508568\n3     010010         28 -712.242424         0.508568\n\n  chromosome  phenotype   fun_value  sel_probability\n0     000010          3   12.000000        -0.017745\n1     000010          3   12.000000        -0.017745\n2     000010          3   12.000000        -0.017745\n3     010010         28 -712.242424         1.053235\n\n  chromosome  phenotype   fun_value  sel_probability\n0     000010          3   12.000000        -0.005648\n1     010010         28 -712.242424         0.335216\n2     010010         28 -712.242424         0.335216\n3     010010         28 -712.242424         0.335216\n\n  chromosome  phenotype   fun_value  sel_probability\n0     000010          3   12.000000        -0.005505\n1     010010         28 -712.242424         0.326759\n2     010010         28 -712.242424         0.326759\n3     010011         29 -767.235294         0.351988\n\n  chromosome  phenotype   fun_value  sel_probability\n0     010010         28 -712.242424             0.25\n1     010010         28 -712.242424             0.25\n2     010010         28 -712.242424             0.25\n3     010010         28 -712.242424             0.25\n\n  chromosome  phenotype   fun_value  sel_probability\n0     010010         28 -712.242424             0.25\n1     010010         28 -712.242424             0.25\n2     010010         28 -712.242424             0.25\n3     010010         28 -712.242424             0.25\n\n  chromosome  phenotype   fun_value  sel_probability\n0     010010         28 -712.242424             0.25\n1     010010         28 -712.242424             0.25\n2     010010         28 -712.242424             0.25\n3     010010         28 -712.242424             0.25\n\n  chromosome  phenotype   fun_value  sel_probability\n0     010010         28 -712.242424             0.25\n1     010010         28 -712.242424             0.25\n2     010010         28 -712.242424             0.25\n3     010010         28 -712.242424             0.25\n",
      "\n  chromosome  phenotype   fun_value  sel_probability\n0     010010         28 -712.242424             0.25\n1     010010         28 -712.242424             0.25\n2     010010         28 -712.242424             0.25\n3     010010         28 -712.242424             0.25\n\n  chromosome  phenotype    fun_value  sel_probability\n0     010010         28  -712.242424         0.206632\n1     010010         28  -712.242424         0.206632\n2     010000         31  -883.222222         0.256236\n3     110010         35 -1139.200000         0.330499\n\n  chromosome  phenotype    fun_value  sel_probability\n0     010010         28  -712.242424         0.196867\n1     010000         31  -883.222222         0.244127\n2     010000         31  -883.222222         0.244127\n3     110010         35 -1139.200000         0.314880\n\n  chromosome  phenotype    fun_value  sel_probability\n0     011010         19  -307.333333         0.097691\n1     010000         31  -883.222222         0.280746\n2     010000         31  -883.222222         0.280746\n3     110011         34 -1072.205128         0.340817\n\n",
      "  chromosome  phenotype    fun_value  sel_probability\n0     011010         19  -307.333333         0.095624\n1     010010         28  -712.242424         0.221607\n2     010011         29  -767.235294         0.238717\n3     110100         39 -1427.181818         0.444053\n\n  chromosome  phenotype   fun_value  sel_probability\n0     011011         18 -272.347826         0.110528\n1     010010         28 -712.242424         0.289051\n2     010010         28 -712.242424         0.289051\n3     010011         29 -767.235294         0.311369\n",
      "\n  chromosome  phenotype   fun_value  sel_probability\n0     011010         19 -307.333333         0.122980\n1     010010         28 -712.242424         0.285005\n2     010010         28 -712.242424         0.285005\n3     010011         29 -767.235294         0.307010\n\n  chromosome  phenotype    fun_value  sel_probability\n0     011011         18  -272.347826         0.094205\n1     010010         28  -712.242424         0.246363\n2     010011         29  -767.235294         0.265385\n3     110010         35 -1139.200000         0.394047\n\n  chromosome  phenotype    fun_value  sel_probability\n0     011011         18  -272.347826         0.060929\n1     110010         35 -1139.200000         0.254860\n2     110010         35 -1139.200000         0.254860\n3     111011         45 -1919.160000         0.429351\n\n  chromosome  phenotype    fun_value  sel_probability\n0     011011         18  -272.347826         0.052751\n1     110010         35 -1139.200000         0.220652\n2     111010         44 -1832.163265         0.354873\n3     111011         45 -1919.160000         0.371723\n\n  chromosome  phenotype    fun_value  sel_probability\n0     011011         18  -272.347826         0.062883\n1     011010         19  -307.333333         0.070961\n2     111010         44 -1832.163265         0.423034\n3     111011         45 -1919.160000         0.443121\n\n  chromosome  phenotype    fun_value  sel_probability\n0     011010         19  -307.333333         0.053703\n1     111111         42 -1664.170213         0.290795\n2     111010         44 -1832.163265         0.320150\n3     111011         45 -1919.160000         0.335352\n\n  chromosome  phenotype    fun_value  sel_probability\n0     011111         21  -383.307692         0.066101\n1     111111         42 -1664.170213         0.286985\n2     111010         44 -1832.163265         0.315956\n3     111011         45 -1919.160000         0.330958\n\n  chromosome  phenotype    fun_value  sel_probability\n0     011111         21  -383.307692         0.084841\n1     011111         21  -383.307692         0.084841\n2     111010         44 -1832.163265         0.405531\n3     111011         45 -1919.160000         0.424787\n\n  chromosome  phenotype    fun_value  sel_probability\n0     011111         21  -383.307692         0.088118\n1     011111         21  -383.307692         0.088118\n2     111111         42 -1664.170213         0.382573\n3     111011         45 -1919.160000         0.441192\n\n  chromosome  phenotype    fun_value  sel_probability\n0     011111         21  -383.307692         0.071302\n1     111111         42 -1664.170213         0.309566\n2     111111         42 -1664.170213         0.309566\n3     111111         42 -1664.170213         0.309566\n\n  chromosome  phenotype    fun_value  sel_probability\n0     011111         21  -383.307692         0.070218\n1     111111         42 -1664.170213         0.304859\n2     111111         42 -1664.170213         0.304859\n3     111110         43 -1747.166667         0.320063\n\n  chromosome  phenotype    fun_value  sel_probability\n0     111111         42 -1664.170213         0.243918\n1     111111         42 -1664.170213         0.243918\n2     111110         43 -1747.166667         0.256082\n3     111110         43 -1747.166667         0.256082\n",
      "\n  chromosome  phenotype    fun_value  sel_probability\n0     111111         42 -1664.170213         0.237920\n1     111111         42 -1664.170213         0.237920\n2     111110         43 -1747.166667         0.249786\n3     111011         45 -1919.160000         0.274375\n\n  chromosome  phenotype    fun_value  sel_probability\n0     011111         21  -383.307692         0.067084\n1     111111         42 -1664.170213         0.291254\n2     111110         43 -1747.166667         0.305780\n3     111011         45 -1919.160000         0.335881\n\n  chromosome  phenotype    fun_value  sel_probability\n0     011011         18  -272.347826         0.048609\n1     111111         42 -1664.170213         0.297022\n2     111110         43 -1747.166667         0.311836\n3     111011         45 -1919.160000         0.342533\n\n  chromosome  phenotype    fun_value  sel_probability\n0     111111         42 -1664.170213         0.237920\n1     111111         42 -1664.170213         0.237920\n2     111110         43 -1747.166667         0.249786\n3     111011         45 -1919.160000         0.274375\n\n  chromosome  phenotype    fun_value  sel_probability\n0     111111         42 -1664.170213         0.240777\n1     111111         42 -1664.170213         0.240777\n2     111111         42 -1664.170213         0.240777\n3     111011         45 -1919.160000         0.277669\n\n  chromosome  phenotype    fun_value  sel_probability\n0     111111         42 -1664.170213          0.23221\n1     111111         42 -1664.170213          0.23221\n2     111011         45 -1919.160000          0.26779\n3     111011         45 -1919.160000          0.26779\n\n  chromosome  phenotype    fun_value  sel_probability\n0     011011         18  -272.347826         0.047882\n1     111111         42 -1664.170213         0.292584\n2     111010         44 -1832.163265         0.322119\n3     111011         45 -1919.160000         0.337414\n\n  chromosome  phenotype    fun_value  sel_probability\n0     111111         42 -1664.170213          0.23221\n1     111111         42 -1664.170213          0.23221\n2     111011         45 -1919.160000          0.26779\n3     111011         45 -1919.160000          0.26779\n\n",
      "  chromosome  phenotype    fun_value  sel_probability\n0     011011         18  -272.347826         0.047161\n1     111111         42 -1664.170213         0.288176\n2     111011         45 -1919.160000         0.332331\n3     111011         45 -1919.160000         0.332331\n\n  chromosome  phenotype    fun_value  sel_probability\n0     011011         18  -272.347826         0.062137\n1     011011         18  -272.347826         0.062137\n2     111011         45 -1919.160000         0.437863\n3     111011         45 -1919.160000         0.437863\n\n  chromosome  phenotype    fun_value  sel_probability\n0     011011         18  -272.347826         0.095656\n1     011011         18  -272.347826         0.095656\n2     011111         21  -383.307692         0.134628\n3     111011         45 -1919.160000         0.674060\n\n  chromosome  phenotype    fun_value  sel_probability\n0     011011         18  -272.347826         0.095656\n1     011011         18  -272.347826         0.095656\n2     011111         21  -383.307692         0.134628\n3     111011         45 -1919.160000         0.674060\n\n  chromosome  phenotype    fun_value  sel_probability\n0     011001         17  -239.363636         0.085056\n1     011011         18  -272.347826         0.096777\n2     011111         21  -383.307692         0.136206\n3     111011         45 -1919.160000         0.681961\n\n  chromosome  phenotype    fun_value  sel_probability\n0     011001         17  -239.363636         0.086065\n1     011001         17  -239.363636         0.086065\n2     011111         21  -383.307692         0.137821\n3     111011         45 -1919.160000         0.690049\n\n  chromosome  phenotype    fun_value  sel_probability\n0     011001         17  -239.363636         0.058452\n1     011011         18  -272.347826         0.066507\n2     111111         42 -1664.170213         0.406387\n3     111011         45 -1919.160000         0.468655\n\n  chromosome  phenotype    fun_value  sel_probability\n0     011001         17  -239.363636         0.041051\n1     111111         42 -1664.170213         0.285408\n2     111011         45 -1919.160000         0.329139\n3     111001         46 -2008.156863         0.344402\n",
      "\n  chromosome  phenotype    fun_value  sel_probability\n0     111111         42 -1664.170213         0.218980\n1     111011         45 -1919.160000         0.252533\n2     111001         46 -2008.156863         0.264244\n3     111001         46 -2008.156863         0.264244\n\n  chromosome  phenotype    fun_value  sel_probability\n0     111011         45 -1919.160000         0.244335\n1     111011         45 -1919.160000         0.244335\n2     111001         46 -2008.156863         0.255665\n3     111001         46 -2008.156863         0.255665\n\n  chromosome  phenotype    fun_value  sel_probability\n0     111011         45 -1919.160000         0.247135\n1     111011         45 -1919.160000         0.247135\n2     111011         45 -1919.160000         0.247135\n3     111001         46 -2008.156863         0.258595\n\n  chromosome  phenotype    fun_value  sel_probability\n0     111011         45 -1919.160000         0.244335\n1     111011         45 -1919.160000         0.244335\n2     111001         46 -2008.156863         0.255665\n3     111001         46 -2008.156863         0.255665\n\n  chromosome  phenotype    fun_value  sel_probability\n0     111010         44 -1832.163265         0.238605\n1     111011         45 -1919.160000         0.249935\n2     111011         45 -1919.160000         0.249935\n3     111001         46 -2008.156863         0.261525\n\n  chromosome  phenotype    fun_value  sel_probability\n0     011010         19  -307.333333         0.050675\n1     111011         45 -1919.160000         0.316442\n2     111011         45 -1919.160000         0.316442\n3     111011         45 -1919.160000         0.316442\n\n  chromosome  phenotype    fun_value  sel_probability\n0     010010         28  -712.242424         0.119509\n1     111111         42 -1664.170213         0.279235\n2     111111         42 -1664.170213         0.279235\n3     111011         45 -1919.160000         0.322021\n\n  chromosome  phenotype    fun_value  sel_probability\n0     010010         28  -712.242424         0.110089\n1     111011         45 -1919.160000         0.296637\n2     111011         45 -1919.160000         0.296637\n3     111011         45 -1919.160000         0.296637\n\n  chromosome  phenotype    fun_value  sel_probability\n0     010010         28  -712.242424         0.110089\n1     111011         45 -1919.160000         0.296637\n2     111011         45 -1919.160000         0.296637\n3     111011         45 -1919.160000         0.296637\n\n  chromosome  phenotype    fun_value  sel_probability\n0     011011         18  -272.347826         0.056470\n1     010010         28  -712.242424         0.147679\n2     111011         45 -1919.160000         0.397926\n3     111011         45 -1919.160000         0.397926\n\n  chromosome  phenotype    fun_value  sel_probability\n0     011011         18  -272.347826         0.084815\n1     011010         19  -307.333333         0.095710\n2     010010         28  -712.242424         0.221808\n3     111011         45 -1919.160000         0.597667\n\n  chromosome  phenotype   fun_value  sel_probability\n0     011011         18 -272.347826         0.174105\n1     011011         18 -272.347826         0.174105\n2     011010         19 -307.333333         0.196471\n3     010010         28 -712.242424         0.455319\n\n  chromosome  phenotype   fun_value  sel_probability\n0     011010         19 -307.333333             0.25\n1     011010         19 -307.333333             0.25\n2     011010         19 -307.333333             0.25\n3     011010         19 -307.333333             0.25\n",
      "\n  chromosome  phenotype   fun_value  sel_probability\n0     011010         19 -307.333333             0.25\n1     011010         19 -307.333333             0.25\n2     011010         19 -307.333333             0.25\n3     011010         19 -307.333333             0.25\n\n  chromosome  phenotype   fun_value  sel_probability\n0     011010         19 -307.333333             0.25\n1     011010         19 -307.333333             0.25\n2     011010         19 -307.333333             0.25\n3     011010         19 -307.333333             0.25\n\n  chromosome  phenotype    fun_value  sel_probability\n0     011010         19  -307.333333         0.110110\n1     011010         19  -307.333333         0.110110\n2     011110         20  -344.320000         0.123361\n3     111010         44 -1832.163265         0.656419\n\n  chromosome  phenotype   fun_value  sel_probability\n0     011010         19 -307.333333         0.242698\n1     011010         19 -307.333333         0.242698\n2     011010         19 -307.333333         0.242698\n3     011110         20 -344.320000         0.271906\n\n  chromosome  phenotype   fun_value  sel_probability\n0     011010         19 -307.333333         0.194361\n1     011010         19 -307.333333         0.194361\n2     011010         19 -307.333333         0.194361\n3     010110         27 -659.250000         0.416917\n\n  chromosome  phenotype   fun_value  sel_probability\n0     011010         19 -307.333333         0.214278\n1     011010         19 -307.333333         0.214278\n2     011010         19 -307.333333         0.214278\n3     010100         24 -512.275862         0.357167\n\n  chromosome  phenotype   fun_value  sel_probability\n0     011010         19 -307.333333         0.214278\n1     011010         19 -307.333333         0.214278\n2     011010         19 -307.333333         0.214278\n3     010100         24 -512.275862         0.357167\n\n  chromosome  phenotype   fun_value  sel_probability\n0     011011         18 -272.347826         0.194633\n1     011010         19 -307.333333         0.219635\n2     011010         19 -307.333333         0.219635\n3     010100         24 -512.275862         0.366097\n\n",
      "  chromosome  phenotype   fun_value  sel_probability\n0     011000         16 -208.380952         0.202819\n1     011001         17 -239.363636         0.232974\n2     011011         18 -272.347826         0.265078\n3     011010         19 -307.333333         0.299129\n\n  chromosome  phenotype   fun_value  sel_probability\n0     011001         17 -239.363636         0.134382\n1     011010         19 -307.333333         0.172541\n2     011100         23 -467.285714         0.262341\n3     010011         29 -767.235294         0.430736\n\n  chromosome  phenotype   fun_value  sel_probability\n0     011011         18 -272.347826         0.150039\n1     011100         23 -467.285714         0.257433\n2     011100         23 -467.285714         0.257433\n3     010111         26 -608.258065         0.335096\n\n  chromosome  phenotype   fun_value  sel_probability\n0     011011         18 -272.347826         0.166960\n1     011101         22 -424.296296         0.260111\n2     011100         23 -467.285714         0.286465\n3     011100         23 -467.285714         0.286465\n\n  chromosome  phenotype   fun_value  sel_probability\n0     011110         20 -344.320000         0.202162\n1     011101         22 -424.296296         0.249119\n2     011100         23 -467.285714         0.274359\n3     011100         23 -467.285714         0.274359\n\n  chromosome  phenotype   fun_value  sel_probability\n0     011110         20 -344.320000         0.207397\n1     011101         22 -424.296296         0.255570\n2     011101         22 -424.296296         0.255570\n3     011100         23 -467.285714         0.281464\n\n  chromosome  phenotype   fun_value  sel_probability\n0     011110         20 -344.320000         0.207397\n1     011101         22 -424.296296         0.255570\n2     011101         22 -424.296296         0.255570\n3     011100         23 -467.285714         0.281464\n\n  chromosome  phenotype   fun_value  sel_probability\n0     011110         20 -344.320000         0.212647\n1     011111         21 -383.307692         0.236725\n2     011101         22 -424.296296         0.262039\n3     011100         23 -467.285714         0.288589\n",
      "\n  chromosome  phenotype   fun_value  sel_probability\n0     011110         20 -344.320000         0.202162\n1     011101         22 -424.296296         0.249119\n2     011100         23 -467.285714         0.274359\n3     011100         23 -467.285714         0.274359\n\n  chromosome  phenotype   fun_value  sel_probability\n0     011101         22 -424.296296         0.214820\n1     011101         22 -424.296296         0.214820\n2     011100         23 -467.285714         0.236585\n3     010110         27 -659.250000         0.333776\n\n  chromosome  phenotype   fun_value  sel_probability\n0     011101         22 -424.296296         0.205659\n1     011100         23 -467.285714         0.226496\n2     010100         24 -512.275862         0.248303\n3     010110         27 -659.250000         0.319542\n\n  chromosome  phenotype   fun_value  sel_probability\n0     011100         23 -467.285714         0.232931\n1     011100         23 -467.285714         0.232931\n2     010100         24 -512.275862         0.255357\n3     010101         25 -559.266667         0.278781\n\n  chromosome  phenotype    fun_value  sel_probability\n0     011100         23  -467.285714         0.153561\n1     010100         24  -512.275862         0.168345\n2     010101         25  -559.266667         0.183788\n3     111100         40 -1504.177778         0.494307\n\n  chromosome  phenotype    fun_value  sel_probability\n0     011100         23  -467.285714         0.146300\n1     011100         23  -467.285714         0.146300\n2     010100         24  -512.275862         0.160386\n3     111110         43 -1747.166667         0.547013\n\n  chromosome  phenotype    fun_value  sel_probability\n0     011100         23  -467.285714         0.150203\n1     011100         23  -467.285714         0.150203\n2     010100         24  -512.275862         0.164665\n3     111111         42 -1664.170213         0.534928\n\n  chromosome  phenotype    fun_value  sel_probability\n0     011100         23  -467.285714         0.116185\n1     011100         23  -467.285714         0.116185\n2     111100         40 -1504.177778         0.373995\n3     111101         41 -1583.173913         0.393636\n\n  chromosome  phenotype    fun_value  sel_probability\n0     011000         16  -208.380952         0.053063\n1     011100         23  -467.285714         0.118993\n2     111100         40 -1504.177778         0.383034\n3     111110         43 -1747.166667         0.444910\n\n",
      "  chromosome  phenotype    fun_value  sel_probability\n0     011000         16  -208.380952         0.046082\n1     011100         23  -467.285714         0.103336\n2     111110         43 -1747.166667         0.386371\n3     111000         47 -2099.153846         0.464210\n\n"
     ],
     "output_type": "stream"
    }
   ],
   "source": [
    "count = 0\n",
    "for i in range(100):\n",
    "    temp = population.copy()\n",
    "    population = select_new_population(population_data(population))\n",
    "    print(f'{population_data(population)}\\n')\n",
    "    population = cross_population(population, \n",
    "                                  probability=0.7)\n",
    "    population = mutate_population(population, \n",
    "                                   probability=0.2)\n",
    "    count += 1"
   ],
   "metadata": {
    "collapsed": false,
    "pycharm": {
     "name": "#%%\n",
     "is_executing": false
    }
   }
  },
  {
   "cell_type": "code",
   "execution_count": 88,
   "outputs": [
    {
     "name": "stdout",
     "text": [
      "Took 100 iterations\n  chromosome  phenotype    fun_value  sel_probability\n0     011000         16  -208.380952         0.087839\n1     011000         16  -208.380952         0.087839\n2     111110         43 -1747.166667         0.736483\n3     011000         16  -208.380952         0.087839\n"
     ],
     "output_type": "stream"
    }
   ],
   "source": [
    "print(f'Took {count} iterations')\n",
    "print(population_data(population))"
   ],
   "metadata": {
    "collapsed": false,
    "pycharm": {
     "name": "#%%\n",
     "is_executing": false
    }
   }
  }
 ],
 "metadata": {
  "kernelspec": {
   "display_name": "Python 3",
   "language": "python",
   "name": "python3"
  },
  "language_info": {
   "codemirror_mode": {
    "name": "ipython",
    "version": 3
   },
   "file_extension": ".py",
   "mimetype": "text/x-python",
   "name": "python",
   "nbconvert_exporter": "python",
   "pygments_lexer": "ipython3",
   "version": "3.7.4"
  },
  "pycharm": {
   "stem_cell": {
    "cell_type": "raw",
    "source": [],
    "metadata": {
     "collapsed": false
    }
   }
  }
 },
 "nbformat": 4,
 "nbformat_minor": 1
}