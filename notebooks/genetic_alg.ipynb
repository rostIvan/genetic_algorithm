{
 "cells": [
  {
   "cell_type": "code",
   "execution_count": 397,
   "metadata": {
    "pycharm": {
     "is_executing": false,
     "name": "#%%\n"
    }
   },
   "outputs": [],
   "source": [
    "import random\n",
    "import math \n",
    "import pandas as pd\n",
    "import numpy as np"
   ]
  },
  {
   "cell_type": "markdown",
   "metadata": {},
   "source": [
    "### Find extrema(min, max) of a function:\n",
    "\\begin{equation*}\n",
    "\\frac{x - 3}{(x + 5)} - (x + 3)(x - 5), x  \\in [15, 45], x\\not=5\n",
    "\\end{equation*}"
   ]
  },
  {
   "cell_type": "code",
   "execution_count": 398,
   "metadata": {
    "pycharm": {
     "is_executing": false,
     "name": "#%%\n"
    }
   },
   "outputs": [
    {
     "name": "stdout",
     "text": [
      "actual max = -179.4\nactual min = -1919.16\n"
     ],
     "output_type": "stream"
    }
   ],
   "source": [
    "def fun(x):\n",
    "    assert x != 5\n",
    "    return ((x - 3) / (x + 5)) - ((x + 3) * (x - 5))\n",
    "\n",
    "def negative_fun(y):\n",
    "    return -fun(y)\n",
    "\n",
    "values = sorted([(fun(i), i) for i in range(15, 46)], \n",
    "                    key=lambda x: x[0], \n",
    "                    reverse=True)\n",
    "actual_max, _ = values[0]\n",
    "actual_min, _ = values[-1]\n",
    "print(f'actual max = { actual_max }')\n",
    "print(f'actual min = { actual_min }')"
   ]
  },
  {
   "cell_type": "markdown",
   "metadata": {},
   "source": [
    "### Util operations"
   ]
  },
  {
   "cell_type": "code",
   "execution_count": 399,
   "metadata": {
    "pycharm": {
     "is_executing": false,
     "name": "#%%\n"
    }
   },
   "outputs": [],
   "source": [
    "def invert_bit(bits, i):\n",
    "    x = list(bits)\n",
    "    x[i] = int(not int(x[i]))\n",
    "    return ''.join(map(str, x))\n",
    "\n",
    "def fill_zeros(bits, length):\n",
    "    b = list(bits)\n",
    "    while len(b) != length:\n",
    "        b.insert(0, 0)\n",
    "    return ''.join(map(str, b))\n",
    "\n",
    "\n",
    "def population_df(chromosomes):\n",
    "        df = pd.DataFrame(data=[ch_i for ch_i in chromosomes], columns=['chromosome'])\n",
    "        df['phenotype'] = df.apply(lambda x: phenotype(x['chromosome']), axis=1) \n",
    "        df['fun_value'] = df.apply(lambda x: fun(x['phenotype']), axis=1)\n",
    "        df['sel_probability'] = df['fun_value'] / df['fun_value'].sum()\n",
    "        assert round(df['sel_probability'].sum(), 5) == 1\n",
    "        return df\n",
    "\n",
    "\n",
    "def get_best_chromosome(c1, c2):\n",
    "    return c1 if fun(phenotype(c1)) < fun(phenotype(c2)) else c2"
   ]
  },
  {
   "cell_type": "markdown",
   "metadata": {},
   "source": [
    "### Chromosome representation"
   ]
  },
  {
   "cell_type": "code",
   "execution_count": 400,
   "metadata": {
    "pycharm": {
     "is_executing": false,
     "name": "#%%\n"
    }
   },
   "outputs": [],
   "source": [
    "def chromosome_bits(n, bits_len=None):\n",
    "    if bits_len:\n",
    "        return fill_zeros(bin(n)[2:], bits_len)\n",
    "    return bin(n)[2:]\n",
    "    \n",
    "def phenotype(n):\n",
    "    return int(n, base=2)\n",
    "\n",
    "assert chromosome_bits(10) == '1010'\n",
    "assert chromosome_bits(10, bits_len=5) == '01010'\n",
    "assert phenotype('1010') == 10\n",
    "assert phenotype(chromosome_bits(1234)) == 1234\n",
    "assert chromosome_bits(45) == '101101'\n",
    "assert phenotype('101101') == 45\n",
    "assert phenotype(chromosome_bits(45)) == 45"
   ]
  },
  {
   "cell_type": "markdown",
   "metadata": {},
   "source": [
    "### Genetic operators"
   ]
  },
  {
   "cell_type": "markdown",
   "metadata": {},
   "source": [
    "* Mutation(bit_position=3)\n",
    "    - 000**0**00 >> 000**1**00"
   ]
  },
  {
   "cell_type": "code",
   "execution_count": 401,
   "metadata": {
    "pycharm": {
     "is_executing": false,
     "name": "#%%\n"
    }
   },
   "outputs": [],
   "source": [
    "def mutation(chromosome, \n",
    "             probability=0.2, \n",
    "             bit_position=None):\n",
    "    def mutate():\n",
    "        if bit_position is None:\n",
    "            pos = random.randint(0, len(chromosome) - 1)\n",
    "        else:\n",
    "            pos = bit_position\n",
    "        return invert_bit(chromosome, pos)\n",
    "\n",
    "    assert (0 <= probability <= 1)\n",
    "    \n",
    "    if random.random() < probability:\n",
    "        return mutate()\n",
    "    return chromosome\n",
    "\n",
    "assert mutation('1111', bit_position=1, probability=0) == '1111'\n",
    "assert mutation(chromosome_bits(15), bit_position=0, probability=1) == '0111'\n",
    "assert mutation(chromosome_bits(15), bit_position=1, probability=1) == '1011'\n",
    "assert mutation(chromosome_bits(15), bit_position=2, probability=1) == '1101'\n",
    "assert mutation(chromosome_bits(15), bit_position=3, probability=1) == '1110'\n",
    "\n",
    "def safe_mutation(chromosome, \n",
    "                  probability=0.2, \n",
    "                  bit_position=None,\n",
    "                  allow_range=range(15, 46)):\n",
    "    mutated = mutation(chromosome, probability, bit_position)\n",
    "    if (phenotype(mutated) not in allow_range or\n",
    "        get_best_chromosome(mutated, chromosome) != mutated):\n",
    "        return chromosome       \n",
    "    return mutated"
   ]
  },
  {
   "cell_type": "markdown",
   "metadata": {},
   "source": [
    "* Crossing\n",
    "    * rift = 3\n",
    "        - **000**000 >> 000 | 111 = 000111\n",
    "        - **111**111 >> 111 | 000 = 111000\n",
    "        \n",
    "    * rift = 1\n",
    "        - **1**111 >> 1 | 000 = 1000\n",
    "        - **0**000 >> 0 | 111 = 0111"
   ]
  },
  {
   "cell_type": "code",
   "execution_count": 402,
   "metadata": {
    "pycharm": {
     "is_executing": false,
     "name": "#%%\n"
    }
   },
   "outputs": [],
   "source": [
    "def crossing(chromosome1, chromosome2, rift=None, probability=0.8):\n",
    "    def cross():\n",
    "        assert len(chromosome1) == len(chromosome2)\n",
    "        if rift is None:\n",
    "            pos = random.randint(0, len(chromosome1))\n",
    "        else:\n",
    "            pos = rift\n",
    "        assert 0 <= pos <= len(chromosome1)\n",
    "        return (''.join([chromosome1[:pos], chromosome2[pos:]]),\n",
    "                ''.join([chromosome2[:pos], chromosome1[pos:]]))\n",
    "    \n",
    "    assert (0 <= probability <= 1)\n",
    "    \n",
    "    if random.random() < probability:\n",
    "        return cross()\n",
    "    return chromosome1, chromosome2\n",
    "\n",
    "\n",
    "assert crossing('000000', '111111', 3, 1) == ('000111', '111000')\n",
    "assert crossing('1111', '0000', 1, 1) == ('1000', '0111')\n",
    "\n",
    "def safe_crossing(chromosome1, \n",
    "                  chromosome2, \n",
    "                  rift=None, \n",
    "                  probability=0.8,\n",
    "                  allow_range=range(15, 46)):\n",
    "    c1, c2 = crossing(chromosome1, chromosome2, rift, probability)\n",
    "    if (phenotype(c1) not in allow_range or \n",
    "        phenotype(c2) not in allow_range or\n",
    "        (get_best_chromosome(c1, chromosome1) != c1 and \n",
    "         get_best_chromosome(c2, chromosome2) != c2)):\n",
    "        return chromosome1, chromosome2\n",
    "    return c1, c2\n",
    "\n",
    "def make_crossing_pairs(_population):\n",
    "    pairs = [(i, j) for i in _population for j in _population if i != j]\n",
    "    random.shuffle(pairs)\n",
    "    return pairs[:len(_population)]"
   ]
  },
  {
   "cell_type": "markdown",
   "metadata": {},
   "source": [
    "### Genetic selection"
   ]
  },
  {
   "cell_type": "code",
   "execution_count": 403,
   "metadata": {
    "pycharm": {
     "is_executing": false,
     "name": "#%%\n"
    }
   },
   "outputs": [],
   "source": [
    "def roulette(chromosomes, survive_probabilities):\n",
    "    n = len(chromosomes)\n",
    "    assert n == len(chromosomes) == len(survive_probabilities)\n",
    "    survived = []\n",
    "    s = sorted([(ch, sp * n, round(sp * n)) \n",
    "                for ch, sp in zip(chromosomes, survive_probabilities)],\n",
    "               key=lambda x: x[1])\n",
    "\n",
    "    while sum(ch_amount for *_, ch_amount in s) > n:\n",
    "        s.pop(0)\n",
    "    \n",
    "    while len(survived) != n:\n",
    "        ch, f_ch_amount, ch_amount = s.pop()\n",
    "        survived.extend([ch] * ch_amount)\n",
    "        if len(s) == 0 and len(survived) < n:\n",
    "            survived.append(ch)\n",
    "            assert len(survived) == n\n",
    "    print(list(map(lambda x: phenotype(x), survived)))\n",
    "    return survived\n",
    "\n",
    "def select_next_population(df):\n",
    "    return roulette(df['chromosome'], df['sel_probability'])"
   ]
  },
  {
   "cell_type": "markdown",
   "metadata": {},
   "source": [
    "### Initial values"
   ]
  },
  {
   "cell_type": "code",
   "execution_count": 404,
   "metadata": {
    "pycharm": {
     "is_executing": false,
     "name": "#%%\n"
    }
   },
   "outputs": [
    {
     "name": "stdout",
     "text": [
      "Initial population:\n  chromosome  phenotype   fun_value  sel_probability\n0     100000         32 -944.216216         0.437914\n1     010000         16 -208.380952         0.096644\n2     010100         20 -344.320000         0.159691\n3     011011         27 -659.250000         0.305751\n"
     ],
     "output_type": "stream"
    }
   ],
   "source": [
    "# population contains N chromosomes \n",
    "# each chromosome consist of L bits\n",
    "N = 4\n",
    "L = len(chromosome_bits(45))\n",
    "\n",
    "population = [\n",
    "    chromosome_bits(32, L),\n",
    "    chromosome_bits(16, L),\n",
    "    chromosome_bits(20, L),\n",
    "    chromosome_bits(27, L),\n",
    "]\n",
    "\n",
    "print('Initial population:')\n",
    "print(population_df(population))\n",
    "assert len(population) == N\n",
    "assert L == 6"
   ]
  },
  {
   "cell_type": "markdown",
   "metadata": {},
   "source": [
    "### Genetic algorithm"
   ]
  },
  {
   "cell_type": "code",
   "execution_count": 405,
   "metadata": {
    "pycharm": {
     "is_executing": false,
     "name": "#%%\n"
    }
   },
   "outputs": [
    {
     "name": "stdout",
     "text": [
      "[32, 32, 27, 20]\n\n[40, 40, 32, 27]\n\n[40, 40, 32, 27]\n\n[40, 40, 32, 27]\n\n[40, 40, 32, 27]\n\n[40, 40, 32, 27]",
      "\n\n[40, 40, 32, 27]\n\n[40, 40, 32, 27]\n\n[44, 40, 32, 27]\n\n[44, 40, 32, 27]\n\n[44, 40, 32, 27]\n\n[44, 40, 32, 27]\n\n[44, 40, 32, 27]\n\n[44, 40, 32, 27]\n\n[45, 45, 40, 32]\n\n[45, 45, 40, 32]\n\n[45, 45, 40, 32]\n\n[45, 45, 40, 32]\n\n[45, 45, 40, 32]\n\n[45, 45, 40, 32]\n\n[45, 45, 40, 34]\n\n[45, 45, 40, 34]",
      "\n\n[45, 45, 40, 34]\n\n[45, 45, 40, 34]\n\n[45, 45, 40, 34]\n\n[45, 45, 40, 34]\n\n[45, 45, 40, 34]\n\n[45, 45, 40, 34]\n\n[45, 45, 40, 34]\n\n[45, 45, 40, 34]",
      "\n\n[45, 45, 40, 34]\n\n[45, 45, 40, 34]\n\n[45, 45, 40, 34]\n\n[45, 45, 41, 35]\n\n[45, 45, 41, 35]\n\n[45, 45, 41, 35]\n\n[45, 45, 43, 35]\n\n[45, 45, 43, 35]\n\n[45, 45, 43, 43]\n\n[45, 45, 43, 43]\n\n[45, 45, 43, 43]\n\n[45, 45, 43, 43]",
      "\n\n[45, 45, 43, 43]\n\n[45, 45, 43, 43]\n\n[45, 45, 43, 43]\n\n[45, 45, 43, 43]\n\n[45, 45, 43, 43]\n\n[45, 45, 43, 43]\n\n[45, 45, 43, 43]\n\n[45, 45, 43, 43]\n\n[45, 45, 43, 43]\n\n[45, 45, 43, 43]\n\n[45, 45, 43, 43]\n\n[45, 45, 43, 43]\n\n[45, 45, 43, 43]\n\n[45, 45, 43, 43]\n\n[45, 45, 43, 43]\n\n[45, 45, 43, 43]",
      "\n\n[45, 45, 43, 43]\n\n[45, 45, 43, 43]\n\n[45, 45, 43, 43]\n\n[45, 45, 43, 43]\n\n[45, 45, 43, 43]\n\n[45, 45, 43, 43]\n\n[45, 45, 43, 43]\n\n[45, 45, 43, 43]\n\n[45, 45, 43, 43]\n\n[45, 45, 43, 43]\n\n[45, 45, 43, 43]\n\n[45, 45, 43, 43]\n\n[45, 45, 43, 43]\n\n[45, 45, 43, 43]\n\n[45, 45, 43, 43]\n\n[45, 45, 43, 43]\n\n[45, 45, 43, 43]\n\n[45, 45, 43, 43]\n\n[45, 45, 43, 43]\n\n[45, 45, 43, 43]\n\n[45, 45, 43, 43]\n\n",
      "[45, 45, 43, 43]\n\n[45, 45, 43, 43]\n\n[45, 45, 43, 43]\n\n[45, 45, 43, 43]\n\n[45, 45, 43, 43]\n\n[45, 45, 43, 43]\n\n[45, 45, 43, 43]\n\n[45, 45, 43, 43]\n\n[45, 45, 43, 43]\n\n[45, 45, 43, 43]\n\n[45, 45, 43, 43]\n\n[45, 45, 43, 43]\n\n[45, 45, 43, 43]\n\n[45, 45, 43, 43]\n\n[45, 45, 43, 43]\n\n[45, 45, 43, 43]\n\n[45, 45, 43, 43]\n\n[45, 45, 43, 43]\n\n[45, 45, 43, 43]\n\n[45, 45, 43, 43]\n\n[45, 45, 43, 43]\n\n[45, 45, 43, 43]\n\n[45, 45, 43, 43]\n\n",
      "[45, 45, 43, 43]\n\n[45, 45, 43, 43]\n\n[45, 45, 43, 43]\n\n[45, 45, 43, 43]\n\n[45, 45, 43, 43]\n\n[45, 45, 43, 43]\n\n[45, 45, 43, 43]\n\n[45, 45, 43, 43]\n\n[45, 45, 43, 43]\n\n[45, 45, 43, 43]\n\n[45, 45, 43, 43]\n\n[45, 45, 43, 43]\n\n[45, 45, 43, 43]\n\n[45, 45, 43, 43]\n\n[45, 45, 43, 43]\n\n[45, 45, 43, 43]\n\n[45, 45, 43, 43]\n\n[45, 45, 43, 43]\n\n  chromosome  phenotype    fun_value  sel_probability\n0     101101         45 -1919.160000         0.261728\n1     101101         45 -1919.160000         0.261728\n2     101011         43 -1747.166667         0.238272\n3     101011         43 -1747.166667         0.238272\n"
     ],
     "output_type": "stream"
    }
   ],
   "source": [
    "for i in range(120):\n",
    "    population = select_next_population(population_df(population))\n",
    "    population = [safe_mutation(i) for i in population]\n",
    "    print()\n",
    "    \n",
    "print(population_df(population))"
   ]
  }
 ],
 "metadata": {
  "kernelspec": {
   "display_name": "Python 3",
   "language": "python",
   "name": "python3"
  },
  "language_info": {
   "codemirror_mode": {
    "name": "ipython",
    "version": 3
   },
   "file_extension": ".py",
   "mimetype": "text/x-python",
   "name": "python",
   "nbconvert_exporter": "python",
   "pygments_lexer": "ipython3",
   "version": "3.7.4"
  },
  "pycharm": {
   "stem_cell": {
    "cell_type": "raw",
    "source": [],
    "metadata": {
     "collapsed": false
    }
   }
  }
 },
 "nbformat": 4,
 "nbformat_minor": 1
}